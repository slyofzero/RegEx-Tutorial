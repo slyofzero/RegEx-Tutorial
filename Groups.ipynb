{
  "nbformat": 4,
  "nbformat_minor": 0,
  "metadata": {
    "colab": {
      "name": "RegEx",
      "provenance": [],
      "collapsed_sections": [],
      "authorship_tag": "ABX9TyOhTYvR2B4vQomTvNuLvi7q",
      "include_colab_link": true
    },
    "kernelspec": {
      "name": "python3",
      "display_name": "Python 3"
    },
    "language_info": {
      "name": "python"
    }
  },
  "cells": [
    {
      "cell_type": "markdown",
      "metadata": {
        "id": "view-in-github",
        "colab_type": "text"
      },
      "source": [
        "<a href=\"https://colab.research.google.com/github/slyofzero/RegEx/blob/main/Groups.ipynb\" target=\"_parent\"><img src=\"https://colab.research.google.com/assets/colab-badge.svg\" alt=\"Open In Colab\"/></a>"
      ]
    },
    {
      "cell_type": "code",
      "source": [
        "# Importing all the neccessary modules and creating the text.\n",
        "import re\n",
        "import string\n",
        "\n",
        "text = '''Mr. David Dogwarts\n",
        "9009009000\n",
        "http://david.dogwarts@idk.com\n",
        "\n",
        "Mrs Hannah Dogwarts\n",
        "800-800-8000\n",
        "https://Hannah.dogwarts@gmail.com\n",
        "\n",
        "Ms. Sarah Dogwarts\n",
        "700.700.7000\n",
        "https://sarah.dogwarts@yahoo.com\n",
        "\n",
        "Mr Dog Dogwarts\n",
        "200.200.2000\n",
        "http://dawg@gmail.com'''"
      ],
      "metadata": {
        "id": "9IIVDSoFvvfP"
      },
      "execution_count": 1,
      "outputs": []
    },
    {
      "cell_type": "code",
      "source": [
        "#To get all the names from the text.\n",
        "pattern = re.compile(r\"M(s|r|rs).?\\s\\w+\\s\\w+\")\n",
        "list(pattern.finditer(text))"
      ],
      "metadata": {
        "colab": {
          "base_uri": "https://localhost:8080/"
        },
        "id": "GD84Qd0XrRsa",
        "outputId": "6549582c-6b53-42f1-f88d-c174a9215c67"
      },
      "execution_count": 2,
      "outputs": [
        {
          "output_type": "execute_result",
          "data": {
            "text/plain": [
              "[<re.Match object; span=(0, 18), match='Mr. David Dogwarts'>,\n",
              " <re.Match object; span=(61, 80), match='Mrs Hannah Dogwarts'>,\n",
              " <re.Match object; span=(129, 147), match='Ms. Sarah Dogwarts'>,\n",
              " <re.Match object; span=(195, 210), match='Mr Dog Dogwarts'>]"
            ]
          },
          "metadata": {},
          "execution_count": 2
        }
      ]
    },
    {
      "cell_type": "markdown",
      "source": [
        "Here using a group, I am able to get all the names from the text, along with the person's title. I first check for \"M\", then using a group check if \"r\", \"s\", or \"rs\" comes after \"M\". As not all names have \".\" after the title I use \".?\" for it."
      ],
      "metadata": {
        "id": "d1fy8MAewu4S"
      }
    },
    {
      "cell_type": "code",
      "source": [
        "#To get all the phone numbers from the text.\n",
        "pattern = re.compile(r\"\\d{3}(-|.)?\\d{3}(-|.)?\\d{3}\")\n",
        "list(pattern.finditer(text))"
      ],
      "metadata": {
        "colab": {
          "base_uri": "https://localhost:8080/"
        },
        "id": "V1QRwYmbxHmk",
        "outputId": "79598da5-58e2-44ed-aee2-acfb5f651e34"
      },
      "execution_count": 3,
      "outputs": [
        {
          "output_type": "execute_result",
          "data": {
            "text/plain": [
              "[<re.Match object; span=(19, 29), match='9009009000'>,\n",
              " <re.Match object; span=(81, 92), match='800-800-800'>,\n",
              " <re.Match object; span=(148, 159), match='700.700.700'>,\n",
              " <re.Match object; span=(211, 222), match='200.200.200'>]"
            ]
          },
          "metadata": {},
          "execution_count": 3
        }
      ]
    },
    {
      "cell_type": "code",
      "source": [
        "#To get all the email addresses.\n",
        "pattern = re.compile(r\"https?://(\\w+\\.)?(.+\\..+)\")\n",
        "print(pattern.sub(r\"\\2\", text))"
      ],
      "metadata": {
        "colab": {
          "base_uri": "https://localhost:8080/"
        },
        "id": "LLESvt7-zVnI",
        "outputId": "5d1f68e9-9dc7-42ac-9ac5-dbae024db088"
      },
      "execution_count": 4,
      "outputs": [
        {
          "output_type": "stream",
          "name": "stdout",
          "text": [
            "Mr. David Dogwarts\n",
            "9009009000\n",
            "dogwarts@idk.com\n",
            "\n",
            "Mrs Hannah Dogwarts\n",
            "800-800-8000\n",
            "dogwarts@gmail.com\n",
            "\n",
            "Ms. Sarah Dogwarts\n",
            "700.700.7000\n",
            "dogwarts@yahoo.com\n",
            "\n",
            "Mr Dog Dogwarts\n",
            "200.200.2000\n",
            "dawg@gmail.com\n"
          ]
        }
      ]
    },
    {
      "cell_type": "markdown",
      "source": [
        "In the text you can see that the Email addresses aren't correct. So to fix them I can again use RegEx. \n",
        "\n",
        "I firstly find all occurences of \"http\" and then make \"s\" optional as some addresses lacked it. Then I look for \"://\" and then for all words after \"://\" till \".\". As the address for Mr Dog Dogwarts doesn't have this, I again make this optional. Then I look for more than one characters till we hit \".\" after which I again look for more than one characters till we hit the end.\n",
        "\n",
        "Now that we have the whole email addresses, I can fix them by just choosing only the part that's in the second group from the RegEx. That can be done using the `sub` function.\n",
        "\n",
        "If you had confusions understanding this, I recommended watching [this video](https://youtu.be/K8L6KVGG-7o?t=2361)."
      ],
      "metadata": {
        "id": "sYDdLL2DzbPN"
      }
    }
  ]
}