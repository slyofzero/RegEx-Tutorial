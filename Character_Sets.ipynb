{
  "nbformat": 4,
  "nbformat_minor": 0,
  "metadata": {
    "colab": {
      "name": "RegEx",
      "provenance": [],
      "collapsed_sections": [],
      "authorship_tag": "ABX9TyNmB4bymlDim76eBKqDqWVg",
      "include_colab_link": true
    },
    "kernelspec": {
      "name": "python3",
      "display_name": "Python 3"
    },
    "language_info": {
      "name": "python"
    }
  },
  "cells": [
    {
      "cell_type": "markdown",
      "metadata": {
        "id": "view-in-github",
        "colab_type": "text"
      },
      "source": [
        "<a href=\"https://colab.research.google.com/github/slyofzero/RegEx/blob/main/Character_Sets.ipynb\" target=\"_parent\"><img src=\"https://colab.research.google.com/assets/colab-badge.svg\" alt=\"Open In Colab\"/></a>"
      ]
    },
    {
      "cell_type": "code",
      "source": [
        "# Importing all the neccessary modules and creating the text.\n",
        "import re\n",
        "import string\n",
        "\n",
        "text = '''Mr. David Dogwarts\n",
        "9009009000\n",
        "http://david.dogwarts@idk.com\n",
        "\n",
        "Mrs Hannah Dogwarts\n",
        "800-800-8000\n",
        "https://Hannah.dogwarts@gmail.com\n",
        "\n",
        "Ms. Sarah Dogwarts\n",
        "700.700.7000\n",
        "https://sarah.dogwarts@yahoo.com\n",
        "\n",
        "Mr Dog Dogwarts\n",
        "200.200.2000\n",
        "http://dawg@gmail.com'''"
      ],
      "metadata": {
        "id": "9IIVDSoFvvfP"
      },
      "execution_count": 1,
      "outputs": []
    },
    {
      "cell_type": "code",
      "source": [
        "#To get both David, Dogwarts, and Dog.\n",
        "pattern = re.compile(r\"D[ao]\")\n",
        "list(pattern.finditer(text))"
      ],
      "metadata": {
        "colab": {
          "base_uri": "https://localhost:8080/"
        },
        "id": "GD84Qd0XrRsa",
        "outputId": "067bdded-ce82-4ac4-9d35-428e38a5bc6f"
      },
      "execution_count": 2,
      "outputs": [
        {
          "output_type": "execute_result",
          "data": {
            "text/plain": [
              "[<re.Match object; span=(4, 6), match='Da'>,\n",
              " <re.Match object; span=(10, 12), match='Do'>,\n",
              " <re.Match object; span=(72, 74), match='Do'>,\n",
              " <re.Match object; span=(139, 141), match='Do'>,\n",
              " <re.Match object; span=(198, 200), match='Do'>,\n",
              " <re.Match object; span=(202, 204), match='Do'>]"
            ]
          },
          "metadata": {},
          "execution_count": 2
        }
      ]
    },
    {
      "cell_type": "markdown",
      "source": [
        "Here using a character set, we are able to get both David, Dogwarts and Dog. It first checked for all occurences of \"D\" and then checked for all occurences of either a or o after it."
      ],
      "metadata": {
        "id": "d1fy8MAewu4S"
      }
    },
    {
      "cell_type": "code",
      "source": [
        "#To get both David, Dogwarts, and Dog.\n",
        "pattern = re.compile(r\"[A-Z][a-z]\")\n",
        "list(pattern.finditer(text))"
      ],
      "metadata": {
        "colab": {
          "base_uri": "https://localhost:8080/"
        },
        "id": "V1QRwYmbxHmk",
        "outputId": "d2809010-17d0-4b3a-961f-122b8bff3458"
      },
      "execution_count": 3,
      "outputs": [
        {
          "output_type": "execute_result",
          "data": {
            "text/plain": [
              "[<re.Match object; span=(0, 2), match='Mr'>,\n",
              " <re.Match object; span=(4, 6), match='Da'>,\n",
              " <re.Match object; span=(10, 12), match='Do'>,\n",
              " <re.Match object; span=(61, 63), match='Mr'>,\n",
              " <re.Match object; span=(65, 67), match='Ha'>,\n",
              " <re.Match object; span=(72, 74), match='Do'>,\n",
              " <re.Match object; span=(102, 104), match='Ha'>,\n",
              " <re.Match object; span=(129, 131), match='Ms'>,\n",
              " <re.Match object; span=(133, 135), match='Sa'>,\n",
              " <re.Match object; span=(139, 141), match='Do'>,\n",
              " <re.Match object; span=(195, 197), match='Mr'>,\n",
              " <re.Match object; span=(198, 200), match='Do'>,\n",
              " <re.Match object; span=(202, 204), match='Do'>]"
            ]
          },
          "metadata": {},
          "execution_count": 3
        }
      ]
    },
    {
      "cell_type": "markdown",
      "source": [
        "Here I use ranges inside a character set to firstly identify all uppercase letters that have a lowercase letter right after them."
      ],
      "metadata": {
        "id": "dKLrhj4JxMzl"
      }
    }
  ]
}