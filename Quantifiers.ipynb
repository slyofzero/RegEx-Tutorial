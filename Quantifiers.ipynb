{
  "nbformat": 4,
  "nbformat_minor": 0,
  "metadata": {
    "colab": {
      "name": "RegEx",
      "provenance": [],
      "collapsed_sections": [],
      "authorship_tag": "ABX9TyPTnyWIKVW7BYe06KaxwpFu",
      "include_colab_link": true
    },
    "kernelspec": {
      "name": "python3",
      "display_name": "Python 3"
    },
    "language_info": {
      "name": "python"
    }
  },
  "cells": [
    {
      "cell_type": "markdown",
      "metadata": {
        "id": "view-in-github",
        "colab_type": "text"
      },
      "source": [
        "<a href=\"https://colab.research.google.com/github/slyofzero/RegEx/blob/main/Quantifiers.ipynb\" target=\"_parent\"><img src=\"https://colab.research.google.com/assets/colab-badge.svg\" alt=\"Open In Colab\"/></a>"
      ]
    },
    {
      "cell_type": "code",
      "source": [
        "# Importing all the neccessary modules and creating the text.\n",
        "import re\n",
        "import string\n",
        "\n",
        "text = '''Mr. David Dogwarts\n",
        "9009009000\n",
        "http://david.dogwarts@idk.com\n",
        "\n",
        "Mrs Hannah Dogwarts\n",
        "800-800-8000\n",
        "https://Hannah.dogwarts@gmail.com\n",
        "\n",
        "Ms. Sarah Dogwarts\n",
        "700.700.7000\n",
        "https://sarah.dogwarts@yahoo.com\n",
        "\n",
        "Mr Dog Dogwarts\n",
        "200.200.2000\n",
        "http://dawg@gmail.com\n",
        "\n",
        "Da'''"
      ],
      "metadata": {
        "id": "9IIVDSoFvvfP"
      },
      "execution_count": 1,
      "outputs": []
    },
    {
      "cell_type": "code",
      "source": [
        "#To get both all words that start with Da or Do.\n",
        "pattern = re.compile(r\"D[ao]\\w*\")\n",
        "list(pattern.finditer(text))"
      ],
      "metadata": {
        "colab": {
          "base_uri": "https://localhost:8080/"
        },
        "id": "GD84Qd0XrRsa",
        "outputId": "5919ad36-36ca-4fde-9259-0dce5ed17b61"
      },
      "execution_count": null,
      "outputs": [
        {
          "output_type": "execute_result",
          "data": {
            "text/plain": [
              "[<re.Match object; span=(4, 9), match='David'>,\n",
              " <re.Match object; span=(10, 18), match='Dogwarts'>,\n",
              " <re.Match object; span=(72, 80), match='Dogwarts'>,\n",
              " <re.Match object; span=(139, 147), match='Dogwarts'>,\n",
              " <re.Match object; span=(198, 201), match='Dog'>,\n",
              " <re.Match object; span=(202, 210), match='Dogwarts'>,\n",
              " <re.Match object; span=(247, 249), match='Da'>]"
            ]
          },
          "metadata": {},
          "execution_count": 2
        }
      ]
    },
    {
      "cell_type": "markdown",
      "source": [
        "Here using a character set, I am able to get all words who have a \"D\" that's followed by \"a\" or \"o\". Using \"\\w\\*\" means that give me all occurences of words after \"D[ao]\" even if there are no words after \"D[ao]\". That's why we are also getting \"Da\" in the output."
      ],
      "metadata": {
        "id": "d1fy8MAewu4S"
      }
    },
    {
      "cell_type": "code",
      "source": [
        "#To get both all words that start with Da or Do and have a word after Da or Do.\n",
        "pattern = re.compile(r\"D[ao]\\w+\")\n",
        "list(pattern.finditer(text))"
      ],
      "metadata": {
        "colab": {
          "base_uri": "https://localhost:8080/"
        },
        "id": "V1QRwYmbxHmk",
        "outputId": "e1e16faf-7fbc-4ffe-95a4-e58fec338b35"
      },
      "execution_count": null,
      "outputs": [
        {
          "output_type": "execute_result",
          "data": {
            "text/plain": [
              "[<re.Match object; span=(4, 9), match='David'>,\n",
              " <re.Match object; span=(10, 18), match='Dogwarts'>,\n",
              " <re.Match object; span=(72, 80), match='Dogwarts'>,\n",
              " <re.Match object; span=(139, 147), match='Dogwarts'>,\n",
              " <re.Match object; span=(198, 201), match='Dog'>,\n",
              " <re.Match object; span=(202, 210), match='Dogwarts'>]"
            ]
          },
          "metadata": {},
          "execution_count": 3
        }
      ]
    },
    {
      "cell_type": "markdown",
      "source": [
        "Here using a character set, I am able to get all words who have a \"D\" that's followed by \"a\" or \"o\". Using \"\\w\\+\" means that give me all occurences of words after \"D[ao]\" but only if there are words after \"D[ao]\". That's why we are not getting \"Da\" in the output."
      ],
      "metadata": {
        "id": "dKLrhj4JxMzl"
      }
    },
    {
      "cell_type": "code",
      "source": [
        "#To get both all words that start with Da or Do and have 2 words after Da or Do.\n",
        "pattern = re.compile(r\"D[ao]\\w{2}\")\n",
        "list(pattern.finditer(text))"
      ],
      "metadata": {
        "colab": {
          "base_uri": "https://localhost:8080/"
        },
        "id": "LLESvt7-zVnI",
        "outputId": "1866cd9e-64e3-4e4e-b8d7-3687cab531bb"
      },
      "execution_count": null,
      "outputs": [
        {
          "output_type": "execute_result",
          "data": {
            "text/plain": [
              "[<re.Match object; span=(4, 8), match='Davi'>,\n",
              " <re.Match object; span=(10, 14), match='Dogw'>,\n",
              " <re.Match object; span=(72, 76), match='Dogw'>,\n",
              " <re.Match object; span=(139, 143), match='Dogw'>,\n",
              " <re.Match object; span=(202, 206), match='Dogw'>]"
            ]
          },
          "metadata": {},
          "execution_count": 4
        }
      ]
    },
    {
      "cell_type": "markdown",
      "source": [
        "Here using a character set, I am able to get all words who have a \"D\" that's followed by \"a\" or \"o\". Using \"\\w{2}\" means that give me only 2 occurences of words after \"D[ao]\"."
      ],
      "metadata": {
        "id": "sYDdLL2DzbPN"
      }
    },
    {
      "cell_type": "code",
      "source": [
        "#To get both all words that start with Da or Do and have minimum 2 and maximum 4 words after Da or Do.\n",
        "pattern = re.compile(r\"D[ao]\\w{2,4}\")\n",
        "list(pattern.finditer(text))"
      ],
      "metadata": {
        "colab": {
          "base_uri": "https://localhost:8080/"
        },
        "id": "ByuHtPQrz7i_",
        "outputId": "c79890d1-bf2d-4fd0-a265-17abbeac3df3"
      },
      "execution_count": null,
      "outputs": [
        {
          "output_type": "execute_result",
          "data": {
            "text/plain": [
              "[<re.Match object; span=(4, 9), match='David'>,\n",
              " <re.Match object; span=(10, 16), match='Dogwar'>,\n",
              " <re.Match object; span=(72, 78), match='Dogwar'>,\n",
              " <re.Match object; span=(139, 145), match='Dogwar'>,\n",
              " <re.Match object; span=(202, 208), match='Dogwar'>]"
            ]
          },
          "metadata": {},
          "execution_count": 5
        }
      ]
    },
    {
      "cell_type": "markdown",
      "source": [
        "Here using a character set, I am able to get all words who have a \"D\" that's followed by \"a\" or \"o\". Using \"\\w{2,4}\" means that give me only 2,3,or 4 occurences of words after \"D[ao]\"."
      ],
      "metadata": {
        "id": "k2IMGpr5z2J6"
      }
    },
    {
      "cell_type": "markdown",
      "source": [
        "Now let's use all the quantifiers to get the phone numbers from the text."
      ],
      "metadata": {
        "id": "CpNVXTny0qjp"
      }
    },
    {
      "cell_type": "code",
      "source": [
        "#To get all the phone numbers from the text.\n",
        "pattern = re.compile(r\"\\d{3}[-.]?\\d{3}[-.]?\\d{3}\")\n",
        "list(pattern.finditer(text))"
      ],
      "metadata": {
        "colab": {
          "base_uri": "https://localhost:8080/"
        },
        "id": "0mDDoVqJ0pzC",
        "outputId": "61a0e1c6-19c1-4821-bcaf-7354318bb0f4"
      },
      "execution_count": null,
      "outputs": [
        {
          "output_type": "execute_result",
          "data": {
            "text/plain": [
              "[<re.Match object; span=(19, 28), match='900900900'>,\n",
              " <re.Match object; span=(81, 92), match='800-800-800'>,\n",
              " <re.Match object; span=(148, 159), match='700.700.700'>,\n",
              " <re.Match object; span=(211, 222), match='200.200.200'>]"
            ]
          },
          "metadata": {},
          "execution_count": 11
        }
      ]
    },
    {
      "cell_type": "markdown",
      "source": [
        "I fristly check for the occurence of three consecutive digits. Once I have this I check for the occurence of \".\" or \"-\", but as the number for David Dogwarts doesn't have either, I make this options. The rest of the RegEx has the same logic."
      ],
      "metadata": {
        "id": "0fwhmq1d1B5n"
      }
    }
  ]
}