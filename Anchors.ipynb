{
  "nbformat": 4,
  "nbformat_minor": 0,
  "metadata": {
    "colab": {
      "name": "RegEx",
      "provenance": [],
      "collapsed_sections": [],
      "authorship_tag": "ABX9TyOiJNgz/A3Ry70w17VA/bUm",
      "include_colab_link": true
    },
    "kernelspec": {
      "name": "python3",
      "display_name": "Python 3"
    },
    "language_info": {
      "name": "python"
    }
  },
  "cells": [
    {
      "cell_type": "markdown",
      "metadata": {
        "id": "view-in-github",
        "colab_type": "text"
      },
      "source": [
        "<a href=\"https://colab.research.google.com/github/slyofzero/RegEx/blob/main/Anchors.ipynb\" target=\"_parent\"><img src=\"https://colab.research.google.com/assets/colab-badge.svg\" alt=\"Open In Colab\"/></a>"
      ]
    },
    {
      "cell_type": "code",
      "source": [
        "# Importing all the neccessary modules and creating the text.\n",
        "import re\n",
        "import string\n",
        "\n",
        "text = '''Mr. David Dogwarts\n",
        "9009009000\n",
        "http://david.dogwarts@idk.com\n",
        "\n",
        "Mrs Hannah Dogwarts\n",
        "800-800-8000\n",
        "https://Hannah.dogwarts@gmail.com\n",
        "\n",
        "Ms. Sarah Dogwarts\n",
        "700.700.7000\n",
        "https://sarah.dogwarts@yahoo.com\n",
        "\n",
        "Mr Dog Dogwarts\n",
        "200.200.2000\n",
        "http://dawg@gmail.com'''"
      ],
      "metadata": {
        "id": "9IIVDSoFvvfP"
      },
      "execution_count": 12,
      "outputs": []
    },
    {
      "cell_type": "code",
      "source": [
        "#To get \"Mr \" that comes at the beginning of the text.\n",
        "pattern = re.compile(r\"^Mr\\s\")\n",
        "list(pattern.finditer(text))"
      ],
      "metadata": {
        "colab": {
          "base_uri": "https://localhost:8080/"
        },
        "id": "3I_CGzsvrHhB",
        "outputId": "e8cb816b-951a-47fa-c2df-824a199417bf"
      },
      "execution_count": 6,
      "outputs": [
        {
          "output_type": "execute_result",
          "data": {
            "text/plain": [
              "[<re.Match object; span=(0, 3), match='Mr '>]"
            ]
          },
          "metadata": {},
          "execution_count": 6
        }
      ]
    },
    {
      "cell_type": "code",
      "source": [
        "#To get \"David\" that comes at the beginning of the text.\n",
        "pattern = re.compile(r\"^David\")\n",
        "list(pattern.finditer(text))"
      ],
      "metadata": {
        "colab": {
          "base_uri": "https://localhost:8080/"
        },
        "id": "lQ5Nibjptfy5",
        "outputId": "af96a3b7-800f-4d72-983b-cf418b01833a"
      },
      "execution_count": 8,
      "outputs": [
        {
          "output_type": "execute_result",
          "data": {
            "text/plain": [
              "[]"
            ]
          },
          "metadata": {},
          "execution_count": 8
        }
      ]
    },
    {
      "cell_type": "markdown",
      "source": [
        "We get an output if we search for r\"^Mr \" but not for \"^David\" because the text starts with \"Mr \"."
      ],
      "metadata": {
        "id": "pyASztkOt6Oc"
      }
    },
    {
      "cell_type": "code",
      "source": [
        "#To get all \"Hi\" that comes at the end of the text.\n",
        "pattern = re.compile(r\"$Hi\")\n",
        "list(pattern.finditer(text))"
      ],
      "metadata": {
        "colab": {
          "base_uri": "https://localhost:8080/"
        },
        "id": "RGa6qB9utupd",
        "outputId": "08324025-7a20-4b87-da3b-a43366353c86"
      },
      "execution_count": 10,
      "outputs": [
        {
          "output_type": "execute_result",
          "data": {
            "text/plain": [
              "[]"
            ]
          },
          "metadata": {},
          "execution_count": 10
        }
      ]
    },
    {
      "cell_type": "code",
      "source": [
        "#To get all the numbers that have a word boundary.\n",
        "pattern = re.compile(r\"\\b900\")\n",
        "list(pattern.finditer(text))"
      ],
      "metadata": {
        "colab": {
          "base_uri": "https://localhost:8080/"
        },
        "id": "GD84Qd0XrRsa",
        "outputId": "61420cae-f344-41e7-9bf2-9d6c07579964"
      },
      "execution_count": 13,
      "outputs": [
        {
          "output_type": "execute_result",
          "data": {
            "text/plain": [
              "[<re.Match object; span=(19, 22), match='900'>]"
            ]
          },
          "metadata": {},
          "execution_count": 13
        }
      ]
    },
    {
      "cell_type": "markdown",
      "source": [
        "Here you only get one output even though there are 3 900 in the text. That's because only the first one out of them has a word boundary in front of it. "
      ],
      "metadata": {
        "id": "JdTMRQl8rpwk"
      }
    }
  ]
}