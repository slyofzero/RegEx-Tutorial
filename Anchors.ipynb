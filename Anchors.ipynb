{
  "nbformat": 4,
  "nbformat_minor": 0,
  "metadata": {
    "colab": {
      "name": "RegEx",
      "provenance": [],
      "collapsed_sections": [],
      "authorship_tag": "ABX9TyMLg3NY0IL0ppMShjha/TYM",
      "include_colab_link": true
    },
    "kernelspec": {
      "name": "python3",
      "display_name": "Python 3"
    },
    "language_info": {
      "name": "python"
    }
  },
  "cells": [
    {
      "cell_type": "markdown",
      "metadata": {
        "id": "view-in-github",
        "colab_type": "text"
      },
      "source": [
        "<a href=\"https://colab.research.google.com/github/slyofzero/RegEx/blob/main/Anchors.ipynb\" target=\"_parent\"><img src=\"https://colab.research.google.com/assets/colab-badge.svg\" alt=\"Open In Colab\"/></a>"
      ]
    },
    {
      "cell_type": "code",
      "source": [
        "# Importing all the neccessary modules and creating the text.\n",
        "import re\n",
        "import string\n",
        "\n",
        "text = '''Mr. David Dogwarts\n",
        "900-9009000\n",
        "http://david.dogwarts@idk.com\n",
        "\n",
        "Mrs Hannah Dogwarts\n",
        "800-800-8000\n",
        "https://Hannah.dogwarts@gmail.com\n",
        "\n",
        "Ms. Sarah Dogwarts\n",
        "700.700.7000\n",
        "https://sarah.dogwarts@yahoo.com\n",
        "\n",
        "Mr Dog Dogwarts\n",
        "200.200.2000\n",
        "http://dawg@gmail.com'''"
      ],
      "metadata": {
        "id": "9IIVDSoFvvfP"
      },
      "execution_count": 8,
      "outputs": []
    },
    {
      "cell_type": "markdown",
      "source": [
        "Now that we have the text, let's use anchors to extract certain information."
      ],
      "metadata": {
        "id": "JwhGWj0qRgiQ"
      }
    },
    {
      "cell_type": "code",
      "source": [
        "#To get \"Mr \" that comes at the beginning of the text.\n",
        "pattern = re.compile(r\"^Mr\\s\")\n",
        "list(pattern.finditer(text))"
      ],
      "metadata": {
        "colab": {
          "base_uri": "https://localhost:8080/"
        },
        "id": "3I_CGzsvrHhB",
        "outputId": "4949df9a-22ac-4d03-bbe1-650b0f83fb39"
      },
      "execution_count": 9,
      "outputs": [
        {
          "output_type": "execute_result",
          "data": {
            "text/plain": [
              "[]"
            ]
          },
          "metadata": {},
          "execution_count": 9
        }
      ]
    },
    {
      "cell_type": "markdown",
      "source": [
        "Here I searched for \"Mr \" coming at the start of the text using the \"^\" (caret) symbol and only got one output because there can only be one set of characters that'll be at the beginning of a text."
      ],
      "metadata": {
        "id": "FOFF2SNXRpNP"
      }
    },
    {
      "cell_type": "code",
      "source": [
        "#To get \"David\" that comes at the beginning of the text.\n",
        "pattern = re.compile(r\"^David\")\n",
        "list(pattern.finditer(text))"
      ],
      "metadata": {
        "colab": {
          "base_uri": "https://localhost:8080/"
        },
        "id": "lQ5Nibjptfy5",
        "outputId": "ff35c974-b48d-401a-e6f5-74cd93f54b4d"
      },
      "execution_count": 10,
      "outputs": [
        {
          "output_type": "execute_result",
          "data": {
            "text/plain": [
              "[]"
            ]
          },
          "metadata": {},
          "execution_count": 10
        }
      ]
    },
    {
      "cell_type": "markdown",
      "source": [
        "We get an output if we search for r\"^Mr \" but not for \"^David\" because the text starts with \"Mr \"."
      ],
      "metadata": {
        "id": "pyASztkOt6Oc"
      }
    },
    {
      "cell_type": "code",
      "source": [
        "#To get all \"Hi\" that comes at the end of the text.\n",
        "pattern = re.compile(r\"Hi$\")\n",
        "list(pattern.finditer(text))"
      ],
      "metadata": {
        "colab": {
          "base_uri": "https://localhost:8080/"
        },
        "id": "RGa6qB9utupd",
        "outputId": "06d8236c-c2a4-4f72-e727-d33d47be819a"
      },
      "execution_count": 11,
      "outputs": [
        {
          "output_type": "execute_result",
          "data": {
            "text/plain": [
              "[]"
            ]
          },
          "metadata": {},
          "execution_count": 11
        }
      ]
    },
    {
      "cell_type": "markdown",
      "source": [
        "Here we do not get an output because \"Hi\" doesn't come at the end of the text. If you try r\"\\.com\" instead of r\"Hi\", you'll get an output."
      ],
      "metadata": {
        "id": "BJRY90bZSFdy"
      }
    },
    {
      "cell_type": "code",
      "source": [
        "#To get all the numbers that have a word boundary.\n",
        "pattern = re.compile(r\"\\b900\")\n",
        "list(pattern.finditer(text))"
      ],
      "metadata": {
        "colab": {
          "base_uri": "https://localhost:8080/"
        },
        "id": "GD84Qd0XrRsa",
        "outputId": "89a64211-7e03-46a3-a05e-64e0cb14e093"
      },
      "execution_count": 12,
      "outputs": [
        {
          "output_type": "execute_result",
          "data": {
            "text/plain": [
              "[<re.Match object; span=(19, 22), match='900'>,\n",
              " <re.Match object; span=(23, 26), match='900'>]"
            ]
          },
          "metadata": {},
          "execution_count": 12
        }
      ]
    },
    {
      "cell_type": "markdown",
      "source": [
        "Here you only get two outputs even though there are three 900 in the text. That's because only the first two out of them have a word boundary in front of them."
      ],
      "metadata": {
        "id": "JdTMRQl8rpwk"
      }
    }
  ]
}