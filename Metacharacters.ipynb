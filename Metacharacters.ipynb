{
  "nbformat": 4,
  "nbformat_minor": 0,
  "metadata": {
    "colab": {
      "name": "RegEx",
      "provenance": [],
      "collapsed_sections": [],
      "authorship_tag": "ABX9TyOaeH7G9A+KugIdfFBR/KtT",
      "include_colab_link": true
    },
    "kernelspec": {
      "name": "python3",
      "display_name": "Python 3"
    },
    "language_info": {
      "name": "python"
    }
  },
  "cells": [
    {
      "cell_type": "markdown",
      "metadata": {
        "id": "view-in-github",
        "colab_type": "text"
      },
      "source": [
        "<a href=\"https://colab.research.google.com/github/slyofzero/RegEx/blob/main/Metacharacters.ipynb\" target=\"_parent\"><img src=\"https://colab.research.google.com/assets/colab-badge.svg\" alt=\"Open In Colab\"/></a>"
      ]
    },
    {
      "cell_type": "code",
      "source": [
        "# Importing all the neccessary modules and creating the text.\n",
        "import re\n",
        "import string\n",
        "\n",
        "text = '''\n",
        "Mr David Dogwarts\n",
        "900-900-9000\n",
        "http://david.dogwarts@idk.com\n",
        "\n",
        "Mr Harry Dogwarts\n",
        "800-800-8000\n",
        "https://harry.dogwarts@gmail.com\n",
        "\n",
        "Mr Sarah Dogwarts\n",
        "700.700.7000\n",
        "https://sarah.dogwarts@yahoo.com\n",
        "\n",
        "Mr Dog Dogwarts\n",
        "200.200.2000\n",
        "http://dawg@gmail.com\n",
        "'''"
      ],
      "metadata": {
        "id": "9IIVDSoFvvfP"
      },
      "execution_count": 1,
      "outputs": []
    },
    {
      "cell_type": "markdown",
      "source": [
        "Now that we have a text to extract data from, let's start using RegEx on it with the help of the `re` module."
      ],
      "metadata": {
        "id": "B0gMCHxSLiMZ"
      }
    },
    {
      "cell_type": "code",
      "source": [
        "#Getting all characters.\n",
        "pattern = re.compile(r\".\")\n",
        "list(pattern.finditer(text))"
      ],
      "metadata": {
        "colab": {
          "base_uri": "https://localhost:8080/"
        },
        "id": "3I_CGzsvrHhB",
        "outputId": "c2b14615-944d-4117-c00e-c83efa908963"
      },
      "execution_count": null,
      "outputs": [
        {
          "output_type": "execute_result",
          "data": {
            "text/plain": [
              "[<re.Match object; span=(1, 2), match='M'>,\n",
              " <re.Match object; span=(2, 3), match='r'>,\n",
              " <re.Match object; span=(3, 4), match=' '>,\n",
              " <re.Match object; span=(4, 5), match='D'>,\n",
              " <re.Match object; span=(5, 6), match='a'>,\n",
              " <re.Match object; span=(6, 7), match='v'>,\n",
              " <re.Match object; span=(7, 8), match='i'>,\n",
              " <re.Match object; span=(8, 9), match='d'>,\n",
              " <re.Match object; span=(9, 10), match=' '>,\n",
              " <re.Match object; span=(10, 11), match='D'>,\n",
              " <re.Match object; span=(11, 12), match='o'>,\n",
              " <re.Match object; span=(12, 13), match='g'>,\n",
              " <re.Match object; span=(13, 14), match='w'>,\n",
              " <re.Match object; span=(14, 15), match='a'>,\n",
              " <re.Match object; span=(15, 16), match='r'>,\n",
              " <re.Match object; span=(16, 17), match='t'>,\n",
              " <re.Match object; span=(17, 18), match='s'>,\n",
              " <re.Match object; span=(19, 20), match='9'>,\n",
              " <re.Match object; span=(20, 21), match='0'>,\n",
              " <re.Match object; span=(21, 22), match='0'>,\n",
              " <re.Match object; span=(22, 23), match='-'>,\n",
              " <re.Match object; span=(23, 24), match='9'>,\n",
              " <re.Match object; span=(24, 25), match='0'>,\n",
              " <re.Match object; span=(25, 26), match='0'>,\n",
              " <re.Match object; span=(26, 27), match='-'>,\n",
              " <re.Match object; span=(27, 28), match='9'>,\n",
              " <re.Match object; span=(28, 29), match='0'>,\n",
              " <re.Match object; span=(29, 30), match='0'>,\n",
              " <re.Match object; span=(30, 31), match='0'>,\n",
              " <re.Match object; span=(32, 33), match='h'>,\n",
              " <re.Match object; span=(33, 34), match='t'>,\n",
              " <re.Match object; span=(34, 35), match='t'>,\n",
              " <re.Match object; span=(35, 36), match='p'>,\n",
              " <re.Match object; span=(36, 37), match=':'>,\n",
              " <re.Match object; span=(37, 38), match='/'>,\n",
              " <re.Match object; span=(38, 39), match='/'>,\n",
              " <re.Match object; span=(39, 40), match='d'>,\n",
              " <re.Match object; span=(40, 41), match='a'>,\n",
              " <re.Match object; span=(41, 42), match='v'>,\n",
              " <re.Match object; span=(42, 43), match='i'>,\n",
              " <re.Match object; span=(43, 44), match='d'>,\n",
              " <re.Match object; span=(44, 45), match='.'>,\n",
              " <re.Match object; span=(45, 46), match='d'>,\n",
              " <re.Match object; span=(46, 47), match='o'>,\n",
              " <re.Match object; span=(47, 48), match='g'>,\n",
              " <re.Match object; span=(48, 49), match='w'>,\n",
              " <re.Match object; span=(49, 50), match='a'>,\n",
              " <re.Match object; span=(50, 51), match='r'>,\n",
              " <re.Match object; span=(51, 52), match='t'>,\n",
              " <re.Match object; span=(52, 53), match='s'>,\n",
              " <re.Match object; span=(53, 54), match='@'>,\n",
              " <re.Match object; span=(54, 55), match='i'>,\n",
              " <re.Match object; span=(55, 56), match='d'>,\n",
              " <re.Match object; span=(56, 57), match='k'>,\n",
              " <re.Match object; span=(57, 58), match='.'>,\n",
              " <re.Match object; span=(58, 59), match='c'>,\n",
              " <re.Match object; span=(59, 60), match='o'>,\n",
              " <re.Match object; span=(60, 61), match='m'>,\n",
              " <re.Match object; span=(63, 64), match='M'>,\n",
              " <re.Match object; span=(64, 65), match='r'>,\n",
              " <re.Match object; span=(65, 66), match=' '>,\n",
              " <re.Match object; span=(66, 67), match='H'>,\n",
              " <re.Match object; span=(67, 68), match='a'>,\n",
              " <re.Match object; span=(68, 69), match='r'>,\n",
              " <re.Match object; span=(69, 70), match='r'>,\n",
              " <re.Match object; span=(70, 71), match='y'>,\n",
              " <re.Match object; span=(71, 72), match=' '>,\n",
              " <re.Match object; span=(72, 73), match='D'>,\n",
              " <re.Match object; span=(73, 74), match='o'>,\n",
              " <re.Match object; span=(74, 75), match='g'>,\n",
              " <re.Match object; span=(75, 76), match='w'>,\n",
              " <re.Match object; span=(76, 77), match='a'>,\n",
              " <re.Match object; span=(77, 78), match='r'>,\n",
              " <re.Match object; span=(78, 79), match='t'>,\n",
              " <re.Match object; span=(79, 80), match='s'>,\n",
              " <re.Match object; span=(81, 82), match='8'>,\n",
              " <re.Match object; span=(82, 83), match='0'>,\n",
              " <re.Match object; span=(83, 84), match='0'>,\n",
              " <re.Match object; span=(84, 85), match='-'>,\n",
              " <re.Match object; span=(85, 86), match='8'>,\n",
              " <re.Match object; span=(86, 87), match='0'>,\n",
              " <re.Match object; span=(87, 88), match='0'>,\n",
              " <re.Match object; span=(88, 89), match='-'>,\n",
              " <re.Match object; span=(89, 90), match='8'>,\n",
              " <re.Match object; span=(90, 91), match='0'>,\n",
              " <re.Match object; span=(91, 92), match='0'>,\n",
              " <re.Match object; span=(92, 93), match='0'>,\n",
              " <re.Match object; span=(94, 95), match='h'>,\n",
              " <re.Match object; span=(95, 96), match='t'>,\n",
              " <re.Match object; span=(96, 97), match='t'>,\n",
              " <re.Match object; span=(97, 98), match='p'>,\n",
              " <re.Match object; span=(98, 99), match='s'>,\n",
              " <re.Match object; span=(99, 100), match=':'>,\n",
              " <re.Match object; span=(100, 101), match='/'>,\n",
              " <re.Match object; span=(101, 102), match='/'>,\n",
              " <re.Match object; span=(102, 103), match='h'>,\n",
              " <re.Match object; span=(103, 104), match='a'>,\n",
              " <re.Match object; span=(104, 105), match='r'>,\n",
              " <re.Match object; span=(105, 106), match='r'>,\n",
              " <re.Match object; span=(106, 107), match='y'>,\n",
              " <re.Match object; span=(107, 108), match='.'>,\n",
              " <re.Match object; span=(108, 109), match='d'>,\n",
              " <re.Match object; span=(109, 110), match='o'>,\n",
              " <re.Match object; span=(110, 111), match='g'>,\n",
              " <re.Match object; span=(111, 112), match='w'>,\n",
              " <re.Match object; span=(112, 113), match='a'>,\n",
              " <re.Match object; span=(113, 114), match='r'>,\n",
              " <re.Match object; span=(114, 115), match='t'>,\n",
              " <re.Match object; span=(115, 116), match='s'>,\n",
              " <re.Match object; span=(116, 117), match='@'>,\n",
              " <re.Match object; span=(117, 118), match='g'>,\n",
              " <re.Match object; span=(118, 119), match='m'>,\n",
              " <re.Match object; span=(119, 120), match='a'>,\n",
              " <re.Match object; span=(120, 121), match='i'>,\n",
              " <re.Match object; span=(121, 122), match='l'>,\n",
              " <re.Match object; span=(122, 123), match='.'>,\n",
              " <re.Match object; span=(123, 124), match='c'>,\n",
              " <re.Match object; span=(124, 125), match='o'>,\n",
              " <re.Match object; span=(125, 126), match='m'>,\n",
              " <re.Match object; span=(128, 129), match='M'>,\n",
              " <re.Match object; span=(129, 130), match='r'>,\n",
              " <re.Match object; span=(130, 131), match=' '>,\n",
              " <re.Match object; span=(131, 132), match='S'>,\n",
              " <re.Match object; span=(132, 133), match='a'>,\n",
              " <re.Match object; span=(133, 134), match='r'>,\n",
              " <re.Match object; span=(134, 135), match='a'>,\n",
              " <re.Match object; span=(135, 136), match='h'>,\n",
              " <re.Match object; span=(136, 137), match=' '>,\n",
              " <re.Match object; span=(137, 138), match='D'>,\n",
              " <re.Match object; span=(138, 139), match='o'>,\n",
              " <re.Match object; span=(139, 140), match='g'>,\n",
              " <re.Match object; span=(140, 141), match='w'>,\n",
              " <re.Match object; span=(141, 142), match='a'>,\n",
              " <re.Match object; span=(142, 143), match='r'>,\n",
              " <re.Match object; span=(143, 144), match='t'>,\n",
              " <re.Match object; span=(144, 145), match='s'>,\n",
              " <re.Match object; span=(146, 147), match='7'>,\n",
              " <re.Match object; span=(147, 148), match='0'>,\n",
              " <re.Match object; span=(148, 149), match='0'>,\n",
              " <re.Match object; span=(149, 150), match='.'>,\n",
              " <re.Match object; span=(150, 151), match='7'>,\n",
              " <re.Match object; span=(151, 152), match='0'>,\n",
              " <re.Match object; span=(152, 153), match='0'>,\n",
              " <re.Match object; span=(153, 154), match='.'>,\n",
              " <re.Match object; span=(154, 155), match='7'>,\n",
              " <re.Match object; span=(155, 156), match='0'>,\n",
              " <re.Match object; span=(156, 157), match='0'>,\n",
              " <re.Match object; span=(157, 158), match='0'>,\n",
              " <re.Match object; span=(159, 160), match='h'>,\n",
              " <re.Match object; span=(160, 161), match='t'>,\n",
              " <re.Match object; span=(161, 162), match='t'>,\n",
              " <re.Match object; span=(162, 163), match='p'>,\n",
              " <re.Match object; span=(163, 164), match='s'>,\n",
              " <re.Match object; span=(164, 165), match=':'>,\n",
              " <re.Match object; span=(165, 166), match='/'>,\n",
              " <re.Match object; span=(166, 167), match='/'>,\n",
              " <re.Match object; span=(167, 168), match='s'>,\n",
              " <re.Match object; span=(168, 169), match='a'>,\n",
              " <re.Match object; span=(169, 170), match='r'>,\n",
              " <re.Match object; span=(170, 171), match='a'>,\n",
              " <re.Match object; span=(171, 172), match='h'>,\n",
              " <re.Match object; span=(172, 173), match='.'>,\n",
              " <re.Match object; span=(173, 174), match='d'>,\n",
              " <re.Match object; span=(174, 175), match='o'>,\n",
              " <re.Match object; span=(175, 176), match='g'>,\n",
              " <re.Match object; span=(176, 177), match='w'>,\n",
              " <re.Match object; span=(177, 178), match='a'>,\n",
              " <re.Match object; span=(178, 179), match='r'>,\n",
              " <re.Match object; span=(179, 180), match='t'>,\n",
              " <re.Match object; span=(180, 181), match='s'>,\n",
              " <re.Match object; span=(181, 182), match='@'>,\n",
              " <re.Match object; span=(182, 183), match='y'>,\n",
              " <re.Match object; span=(183, 184), match='a'>,\n",
              " <re.Match object; span=(184, 185), match='h'>,\n",
              " <re.Match object; span=(185, 186), match='o'>,\n",
              " <re.Match object; span=(186, 187), match='o'>,\n",
              " <re.Match object; span=(187, 188), match='.'>,\n",
              " <re.Match object; span=(188, 189), match='c'>,\n",
              " <re.Match object; span=(189, 190), match='o'>,\n",
              " <re.Match object; span=(190, 191), match='m'>,\n",
              " <re.Match object; span=(193, 194), match='M'>,\n",
              " <re.Match object; span=(194, 195), match='r'>,\n",
              " <re.Match object; span=(195, 196), match=' '>,\n",
              " <re.Match object; span=(196, 197), match='D'>,\n",
              " <re.Match object; span=(197, 198), match='o'>,\n",
              " <re.Match object; span=(198, 199), match='g'>,\n",
              " <re.Match object; span=(199, 200), match=' '>,\n",
              " <re.Match object; span=(200, 201), match='D'>,\n",
              " <re.Match object; span=(201, 202), match='o'>,\n",
              " <re.Match object; span=(202, 203), match='g'>,\n",
              " <re.Match object; span=(203, 204), match='w'>,\n",
              " <re.Match object; span=(204, 205), match='a'>,\n",
              " <re.Match object; span=(205, 206), match='r'>,\n",
              " <re.Match object; span=(206, 207), match='t'>,\n",
              " <re.Match object; span=(207, 208), match='s'>,\n",
              " <re.Match object; span=(209, 210), match='2'>,\n",
              " <re.Match object; span=(210, 211), match='0'>,\n",
              " <re.Match object; span=(211, 212), match='0'>,\n",
              " <re.Match object; span=(212, 213), match='.'>,\n",
              " <re.Match object; span=(213, 214), match='2'>,\n",
              " <re.Match object; span=(214, 215), match='0'>,\n",
              " <re.Match object; span=(215, 216), match='0'>,\n",
              " <re.Match object; span=(216, 217), match='.'>,\n",
              " <re.Match object; span=(217, 218), match='2'>,\n",
              " <re.Match object; span=(218, 219), match='0'>,\n",
              " <re.Match object; span=(219, 220), match='0'>,\n",
              " <re.Match object; span=(220, 221), match='0'>,\n",
              " <re.Match object; span=(222, 223), match='h'>,\n",
              " <re.Match object; span=(223, 224), match='t'>,\n",
              " <re.Match object; span=(224, 225), match='t'>,\n",
              " <re.Match object; span=(225, 226), match='p'>,\n",
              " <re.Match object; span=(226, 227), match=':'>,\n",
              " <re.Match object; span=(227, 228), match='/'>,\n",
              " <re.Match object; span=(228, 229), match='/'>,\n",
              " <re.Match object; span=(229, 230), match='d'>,\n",
              " <re.Match object; span=(230, 231), match='a'>,\n",
              " <re.Match object; span=(231, 232), match='w'>,\n",
              " <re.Match object; span=(232, 233), match='g'>,\n",
              " <re.Match object; span=(233, 234), match='@'>,\n",
              " <re.Match object; span=(234, 235), match='g'>,\n",
              " <re.Match object; span=(235, 236), match='m'>,\n",
              " <re.Match object; span=(236, 237), match='a'>,\n",
              " <re.Match object; span=(237, 238), match='i'>,\n",
              " <re.Match object; span=(238, 239), match='l'>,\n",
              " <re.Match object; span=(239, 240), match='.'>,\n",
              " <re.Match object; span=(240, 241), match='c'>,\n",
              " <re.Match object; span=(241, 242), match='o'>,\n",
              " <re.Match object; span=(242, 243), match='m'>]"
            ]
          },
          "metadata": {},
          "execution_count": 22
        }
      ]
    },
    {
      "cell_type": "markdown",
      "source": [
        "Because I searched for \".\" (every character), I got every character in the text."
      ],
      "metadata": {
        "id": "muzeDAZ4OOAJ"
      }
    },
    {
      "cell_type": "code",
      "source": [
        "#Getting all @.\n",
        "pattern = re.compile(r\"@\")\n",
        "list(pattern.finditer(text))"
      ],
      "metadata": {
        "colab": {
          "base_uri": "https://localhost:8080/"
        },
        "id": "GD84Qd0XrRsa",
        "outputId": "b4783b63-5047-4641-f8a4-fe706fde0a78"
      },
      "execution_count": null,
      "outputs": [
        {
          "output_type": "execute_result",
          "data": {
            "text/plain": [
              "[<re.Match object; span=(53, 54), match='@'>,\n",
              " <re.Match object; span=(116, 117), match='@'>,\n",
              " <re.Match object; span=(181, 182), match='@'>,\n",
              " <re.Match object; span=(233, 234), match='@'>]"
            ]
          },
          "metadata": {},
          "execution_count": 23
        }
      ]
    },
    {
      "cell_type": "markdown",
      "source": [
        "Here you can see that only 4 $@$ got selected. That's because they are used only 4 times in the whole text."
      ],
      "metadata": {
        "id": "JdTMRQl8rpwk"
      }
    },
    {
      "cell_type": "code",
      "source": [
        "# Getting all matches for three words.\n",
        "pattern = re.compile(r\"\\w\\w\\w\")\n",
        "list(pattern.finditer(text))"
      ],
      "metadata": {
        "colab": {
          "base_uri": "https://localhost:8080/"
        },
        "id": "hxGSipsAoEVa",
        "outputId": "f0a0aa44-0eb0-4648-cae7-174b16a420b7"
      },
      "execution_count": null,
      "outputs": [
        {
          "output_type": "execute_result",
          "data": {
            "text/plain": [
              "[<re.Match object; span=(4, 7), match='Dav'>,\n",
              " <re.Match object; span=(10, 13), match='Dog'>,\n",
              " <re.Match object; span=(13, 16), match='war'>,\n",
              " <re.Match object; span=(19, 22), match='900'>,\n",
              " <re.Match object; span=(23, 26), match='900'>,\n",
              " <re.Match object; span=(27, 30), match='900'>,\n",
              " <re.Match object; span=(32, 35), match='htt'>,\n",
              " <re.Match object; span=(39, 42), match='dav'>,\n",
              " <re.Match object; span=(45, 48), match='dog'>,\n",
              " <re.Match object; span=(48, 51), match='war'>,\n",
              " <re.Match object; span=(54, 57), match='idk'>,\n",
              " <re.Match object; span=(58, 61), match='com'>,\n",
              " <re.Match object; span=(66, 69), match='Har'>,\n",
              " <re.Match object; span=(72, 75), match='Dog'>,\n",
              " <re.Match object; span=(75, 78), match='war'>,\n",
              " <re.Match object; span=(81, 84), match='800'>,\n",
              " <re.Match object; span=(85, 88), match='800'>,\n",
              " <re.Match object; span=(89, 92), match='800'>,\n",
              " <re.Match object; span=(94, 97), match='htt'>,\n",
              " <re.Match object; span=(102, 105), match='har'>,\n",
              " <re.Match object; span=(108, 111), match='dog'>,\n",
              " <re.Match object; span=(111, 114), match='war'>,\n",
              " <re.Match object; span=(117, 120), match='gma'>,\n",
              " <re.Match object; span=(123, 126), match='com'>,\n",
              " <re.Match object; span=(131, 134), match='Sar'>,\n",
              " <re.Match object; span=(137, 140), match='Dog'>,\n",
              " <re.Match object; span=(140, 143), match='war'>,\n",
              " <re.Match object; span=(146, 149), match='700'>,\n",
              " <re.Match object; span=(150, 153), match='700'>,\n",
              " <re.Match object; span=(154, 157), match='700'>,\n",
              " <re.Match object; span=(159, 162), match='htt'>,\n",
              " <re.Match object; span=(167, 170), match='sar'>,\n",
              " <re.Match object; span=(173, 176), match='dog'>,\n",
              " <re.Match object; span=(176, 179), match='war'>,\n",
              " <re.Match object; span=(182, 185), match='yah'>,\n",
              " <re.Match object; span=(188, 191), match='com'>,\n",
              " <re.Match object; span=(196, 199), match='Dog'>,\n",
              " <re.Match object; span=(200, 203), match='Dog'>,\n",
              " <re.Match object; span=(203, 206), match='war'>,\n",
              " <re.Match object; span=(209, 212), match='200'>,\n",
              " <re.Match object; span=(213, 216), match='200'>,\n",
              " <re.Match object; span=(217, 220), match='200'>,\n",
              " <re.Match object; span=(222, 225), match='htt'>,\n",
              " <re.Match object; span=(229, 232), match='daw'>,\n",
              " <re.Match object; span=(234, 237), match='gma'>,\n",
              " <re.Match object; span=(240, 243), match='com'>]"
            ]
          },
          "metadata": {},
          "execution_count": 24
        }
      ]
    },
    {
      "cell_type": "markdown",
      "source": [
        "As you can see, the first three characters \"Mr \" from the text are excluded. That's because I chose occurence of three words, but \"Mr \" is two words and one whitespace.\n",
        "\n",
        "To retrieve it you can use \"\\w\\w\\s\" instead of \"\\w\\w\\w\"."
      ],
      "metadata": {
        "id": "4LUDXc18r1Vo"
      }
    },
    {
      "cell_type": "code",
      "source": [
        "# Getting all matches for 4 digits.\n",
        "pattern = re.compile(r\"\\d\\d\\d\\d\")\n",
        "list(pattern.finditer(text))"
      ],
      "metadata": {
        "colab": {
          "base_uri": "https://localhost:8080/"
        },
        "id": "BRVC-O27q2ls",
        "outputId": "70d0029e-c1d6-4cb2-f234-9455125fca8e"
      },
      "execution_count": null,
      "outputs": [
        {
          "output_type": "execute_result",
          "data": {
            "text/plain": [
              "[<re.Match object; span=(27, 31), match='9000'>,\n",
              " <re.Match object; span=(89, 93), match='8000'>,\n",
              " <re.Match object; span=(154, 158), match='7000'>,\n",
              " <re.Match object; span=(217, 221), match='2000'>]"
            ]
          },
          "metadata": {},
          "execution_count": 27
        }
      ]
    },
    {
      "cell_type": "markdown",
      "source": [
        "As you can see, we only get 4 outcomes because there are only 4 places in the text were 4 digits are together. That being the last part of each person's phone number."
      ],
      "metadata": {
        "id": "Cbj4_XD_sPtE"
      }
    },
    {
      "cell_type": "code",
      "source": [
        "# Getting all matches for 3 spaces.\n",
        "pattern = re.compile(r\"\\s\\s\\s\")\n",
        "list(pattern.finditer(text))"
      ],
      "metadata": {
        "colab": {
          "base_uri": "https://localhost:8080/"
        },
        "id": "J64j-cCyq75B",
        "outputId": "42ebe718-2f08-4a09-bcc8-e0bccc5b3259"
      },
      "execution_count": null,
      "outputs": [
        {
          "output_type": "execute_result",
          "data": {
            "text/plain": [
              "[]"
            ]
          },
          "metadata": {},
          "execution_count": 26
        }
      ]
    },
    {
      "cell_type": "markdown",
      "source": [
        "We get an empty list as an output because there are no occurence of three spaces in the whole text."
      ],
      "metadata": {
        "id": "kKwyqOmHsbIU"
      }
    }
  ]
}